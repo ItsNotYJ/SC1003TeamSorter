{
 "cells": [
  {
   "cell_type": "markdown",
   "id": "fef65239",
   "metadata": {},
   "source": [
    "#### Introduction\n",
    "\n",
    "This is a mini project for SC1003 Introduction to Computation Thinking and Programming in NTU. We are from FCSD-Group 4 consisting of Yan Jie, Samuel, Timothy, Keith and Run Ze."
   ]
  },
  {
   "cell_type": "markdown",
   "id": "14a0e14f",
   "metadata": {},
   "source": [
    "#### Algorithmic Thinking\n",
    "The program is a software that aims to handle large csv files containing student details of different tutorial groups and sort them accordingly into even and distributed teams based on their, in order of significance:\n",
    "1. Average CGPA\n",
    "2. Faculty\n",
    "3. Gender"
   ]
  },
  {
   "cell_type": "markdown",
   "id": "5545bad6",
   "metadata": {},
   "source": [
    "#### Flowchart"
   ]
  },
  {
   "cell_type": "markdown",
   "id": "8c85c825",
   "metadata": {},
   "source": [
    "#### Pseudocode"
   ]
  },
  {
   "cell_type": "markdown",
   "id": "aedd091a",
   "metadata": {},
   "source": [
    "#### Libraries and Dependencies"
   ]
  },
  {
   "cell_type": "code",
   "execution_count": null,
   "id": "df646987-061a-4203-b1f2-16789af189d3",
   "metadata": {},
   "outputs": [],
   "source": [
    "# Import visualization libraries\n",
    "import plotly.graph_objects as go"
   ]
  },
  {
   "cell_type": "markdown",
   "id": "0ba0da77",
   "metadata": {},
   "source": [
    "#### Basic File Management and Sorting Functions"
   ]
  },
  {
   "cell_type": "code",
   "execution_count": null,
   "id": "3b2136f6",
   "metadata": {},
   "outputs": [],
   "source": [
    "class Student:\n",
    "    def __init__(self, tgrp, id, faculty, name, gender, cgpa, team = 0):\n",
    "        self.tutorialGrp = int(tgrp)\n",
    "        self.studID = id\n",
    "        self.faculty = faculty\n",
    "        self.name = name\n",
    "        self.gender = gender\n",
    "        self.cgpa = float(cgpa)\n",
    "        self.team = team\n",
    "        \n",
    "    def setTeam(self, team):\n",
    "        self.team = team\n",
    "        \n",
    "    def getTeam(self):\n",
    "        return self.team\n",
    "    \n",
    "    def printStudent(self):\n",
    "        print(f'{self.tutorialGrp}, {self.studID}, {self.faculty}, {self.name}, {self.gender}, {self.cgpa}, {self.team}')\n"
   ]
  },
  {
   "cell_type": "code",
   "execution_count": null,
   "id": "87ad13e5",
   "metadata": {},
   "outputs": [],
   "source": [
    "# Initialize data\n",
    "studentList = []\n",
    "gpaDataList = []\n",
    "        \n",
    "with open('records.csv') as records:\n",
    "    records.__next__() # Skip the header row\n",
    "    lines = records.read().strip().split('\\n')\n",
    "    \n",
    "    for line in lines:\n",
    "        line = line.split(',')\n",
    "        line[0] = line[0][2:]\n",
    "        \n",
    "        student = Student(line[0], line[1], line[2], line[3], line[4], line[5])\n",
    "        studentList.append(student)\n",
    "\n",
    "        student.printStudent()"
   ]
  },
  {
   "cell_type": "code",
   "execution_count": null,
   "id": "1097bc41",
   "metadata": {},
   "outputs": [],
   "source": [
    "# Sort dataList function by tutorial group\n",
    "def sortData(data):\n",
    "    # Using itemgetter to retrieve the row by the column index, e.g., Tutorial Group is index 0 - First Column\n",
    "    sortedData = sorted(data, key=lambda Student: Student.tutorialGrp)\n",
    "    return sortedData\n",
    "\n",
    "# Sort dataList by tutorial group and CGPA\n",
    "def sortCGPA(data):    \n",
    "    # Using itemgetter to retrieve the row by the column index,\n",
    "    # e.g., Tutorial Group is index 0 - First Column\n",
    "    #       CGPA is index 5 - Sixth Column\n",
    "    sortedData = sorted(data, key=lambda Student: (Student.tutorialGrp, Student.cgpa))\n",
    "    return sortedData"
   ]
  },
  {
   "cell_type": "markdown",
   "id": "22301dae",
   "metadata": {},
   "source": [
    "#### Data Analysis with Graphs from Plotly"
   ]
  },
  {
   "cell_type": "code",
   "execution_count": null,
   "id": "19ec965b",
   "metadata": {},
   "outputs": [],
   "source": [
    "# Graph Visualization functions using Plotly\n",
    "#TODO: Exception Handling\n",
    "def showCGPAPerGroup():\n",
    "    cgpa = []\n",
    "    tgrp = []\n",
    "    for student in sortCGPA(studentList):\n",
    "        cgpa.append(student.cgpa)\n",
    "        tgrp.append(student.tutorialGrp)\n",
    "        # print(str(student[0]) + ' ' + str(student[5])) # Use for checking sorting\n",
    "\n",
    "    # Make it into a readable box plot using the python arrays above\n",
    "    boxTrace = go.Box(\n",
    "        x = tgrp,\n",
    "        y = cgpa,\n",
    "        name = 'CGPA / Tutorial Group'\n",
    "    )\n",
    "\n",
    "    # Initialize the graph object with go.Figure()\n",
    "    fig = go.Figure(boxTrace)\n",
    "    fig.update_layout(\n",
    "        title=\"CGPA / Tutorial Group\",\n",
    "        xaxis_title=\"Tutorial Group\",\n",
    "        yaxis_title=\"CGPA\") # Name the title of the graph\n",
    "    fig.show() # Show the graph\n",
    "    \n",
    "# showCGPAPerGroup()"
   ]
  },
  {
   "cell_type": "code",
   "execution_count": null,
   "id": "76c7ee0d",
   "metadata": {},
   "outputs": [],
   "source": [
    "#TODO: Exception Handling\n",
    "def showStudentsPerGroup():\n",
    "    # Graph on No. of Students Per Tutorial Group\n",
    "    numPerGrp = {}\n",
    "    studList = sortData(studentList)\n",
    "\n",
    "    for student in studList:\n",
    "        if student.tutorialGrp not in numPerGrp.keys():\n",
    "            numPerGrp[student.tutorialGrp] = 0\n",
    "\n",
    "    for updateStudent in studList:\n",
    "        numPerGrp[updateStudent.tutorialGrp] += 1\n",
    "\n",
    "    barTrace = go.Bar(\n",
    "        x = list(numPerGrp.keys()),\n",
    "        y = list(numPerGrp.values()),\n",
    "        name = 'Number of Students / Tutorial Group'\n",
    "    )\n",
    "\n",
    "    # Initialize the graph object with go.Figure()\n",
    "    fig = go.Figure(barTrace)\n",
    "    fig.update_layout(\n",
    "        title=\"No. of Students / Tutorial Group\",\n",
    "        xaxis_title=\"Tutorial Group\",\n",
    "        yaxis_title=\"No. Of Students\") # Name the title of the graph\n",
    "    fig.show() # Show the graph\n",
    "\n",
    "# showStudentsPerGroup()"
   ]
  },
  {
   "cell_type": "code",
   "execution_count": null,
   "id": "ed71946e",
   "metadata": {},
   "outputs": [],
   "source": [
    "#TODO: Exception Handling\n",
    "def showFacultyPerGroup(tutorialGrpNum):\n",
    "    # Graph on Faculty Distribution per Tutorial Group\n",
    "    facPerGrp = {}\n",
    "    numPerGrp = {}\n",
    "    studList = sortData(studentList)\n",
    "\n",
    "    # Get the number of students per tutorial group\n",
    "    for student in studList:\n",
    "        if student.tutorialGrp not in numPerGrp.keys():\n",
    "            numPerGrp[student.tutorialGrp] = 0\n",
    "                \n",
    "        if student.faculty not in facPerGrp.keys():\n",
    "            facPerGrp[student.faculty] = 0\n",
    "\n",
    "    for updateStudent in studList:\n",
    "        numPerGrp[updateStudent.tutorialGrp] += 1\n",
    "\n",
    "    # Input the tutorial group number to show the distribution for that group\n",
    "    tgrpToShow = tutorialGrpNum\n",
    "\n",
    "    # Get the number of students per faculty in a tutorial group\n",
    "    for i in range(numPerGrp[tgrpToShow] * tgrpToShow - 50,\n",
    "                numPerGrp[tgrpToShow] * tgrpToShow):\n",
    "        facPerGrp[studList[i].faculty] += 1 # incremement the facPerGrp dict by referencing the indexed student and their faculty\n",
    "\n",
    "    barTrace1 = go.Bar(\n",
    "            x = list(facPerGrp.keys()),\n",
    "            y = list(facPerGrp.values()),\n",
    "            name = 'No. of Students / Faculty'\n",
    "        )\n",
    "\n",
    "    # Initialize the graph object with go.Figure()\n",
    "    fig = go.Figure(barTrace1)\n",
    "    fig.update_layout(\n",
    "        title=\"No. of Students / Faculty\",\n",
    "        xaxis_title=\"Faculty\",\n",
    "        yaxis_title=\"No. Of Students\") # Name the title of the graph\n",
    "    fig.show() # Show the graph\n",
    "    \n",
    "# showFacultyPerGroup(1)"
   ]
  },
  {
   "cell_type": "code",
   "execution_count": null,
   "id": "c326e7dd",
   "metadata": {},
   "outputs": [],
   "source": [
    "#TODO: Exception Handling\n",
    "def showGenderPerGroup():\n",
    "    # Graph on Gender Count per Tutorial Group \n",
    "    tgrp = []\n",
    "    malePerGrp = {}\n",
    "    femalePerGrp = {}\n",
    "    studList = sortData(studentList)\n",
    "\n",
    "    for student in studList:\n",
    "        if student.tutorialGrp not in tgrp:\n",
    "            tgrp.append(student.tutorialGrp)\n",
    "            malePerGrp[student.tutorialGrp] = 0\n",
    "            femalePerGrp[student.tutorialGrp] = 0\n",
    "        \n",
    "    for updateNum in studList:\n",
    "        if updateNum.gender == 'Male':\n",
    "            malePerGrp[updateNum.tutorialGrp] += 1\n",
    "        if updateNum.gender == 'Female':\n",
    "            femalePerGrp[updateNum.tutorialGrp] += 1\n",
    "\n",
    "    maleTrace = go.Bar(\n",
    "        x = tgrp,\n",
    "        y = list(malePerGrp.values()),\n",
    "        hovertext='(Tutorial Group, No. Of Males)',\n",
    "        name = 'Male')\n",
    "\n",
    "    femaleTrace = go.Bar(\n",
    "        x = tgrp,\n",
    "        y = list(femalePerGrp.values()),\n",
    "        hovertext = '(Tutorial Group, No. Of Females)',\n",
    "        name = 'Female')\n",
    "\n",
    "    # Initialize the graph object with go.Figure()\n",
    "    fig = go.Figure()\n",
    "    fig.add_trace(maleTrace)\n",
    "    fig.add_trace(femaleTrace)\n",
    "    fig.update_layout(\n",
    "        title = \"Gender / Tutorial Group\", # Name the title of the graph\n",
    "        xaxis_title = \"Tutorial Group\",\n",
    "        yaxis_title = \"No. Of Students\")\n",
    "    fig.show() # Show the graph\n",
    "    \n",
    "# showGenderPerGroup()"
   ]
  },
  {
   "cell_type": "markdown",
   "id": "34a63068",
   "metadata": {},
   "source": [
    "#### Main Code"
   ]
  },
  {
   "cell_type": "code",
   "execution_count": null,
   "id": "025be468",
   "metadata": {},
   "outputs": [],
   "source": [
    "def getGroupMedianCGPA(studentList, groupNum):\n",
    "    totalGPA = 0.0\n",
    "    totalStudents = 0\n",
    "    \n",
    "    for student in studentList:\n",
    "        if student.tutorialGrp == int(groupNum):\n",
    "            totalGPA += student.cgpa\n",
    "            totalStudents += 1\n",
    "\n",
    "    return totalGPA / totalStudents\n",
    "\n",
    "print(getGroupMedianCGPA(studentList, 1))"
   ]
  }
 ],
 "metadata": {
  "kernelspec": {
   "display_name": "localenv (3.13.6)",
   "language": "python",
   "name": "python3"
  },
  "language_info": {
   "codemirror_mode": {
    "name": "ipython",
    "version": 3
   },
   "file_extension": ".py",
   "mimetype": "text/x-python",
   "name": "python",
   "nbconvert_exporter": "python",
   "pygments_lexer": "ipython3",
   "version": "3.13.6"
  }
 },
 "nbformat": 4,
 "nbformat_minor": 5
}
